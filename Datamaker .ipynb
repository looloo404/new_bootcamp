{
 "cells": [
  {
   "cell_type": "code",
   "execution_count": 2,
   "id": "f2bf4e18",
   "metadata": {},
   "outputs": [],
   "source": [
    "#비디오 촬영해서 데이터 만들기\n",
    "import uuid #unique identifier\n",
    "import os  \n",
    "import time\n",
    "import cv2"
   ]
  },
  {
   "cell_type": "code",
   "execution_count": 3,
   "id": "04cfdf78",
   "metadata": {},
   "outputs": [],
   "source": [
    "#IMAGES_PATH = \n",
    "#이부분만 원하는 폴더 경로로 적어주세요\n",
    "IMAGES_PATH = os.path.join('./data', 'images') #/data/images\n",
    "labels = ['awake']\n",
    "# 정수리 사진을 찍고 싶으시다면 라벨을 더추가하시면 됩니다.\n",
    "number_imgs = 20\n",
    "#일단 이미지는 각 라벨당 20장 찍는다고 설정했습니다."
   ]
  },
  {
   "cell_type": "code",
   "execution_count": null,
   "id": "33651017",
   "metadata": {},
   "outputs": [],
   "source": [
    "import uuid #unique identifier\n",
    "import os  \n",
    "import time\n",
    "import cv2\n",
    "\n",
    "cap = cv2.VideoCapture(0)\n",
    "\n",
    "#Loop through Labels\n",
    "for label in labels:\n",
    "    print('Collecting images for {}'.format(labels))\n",
    "    time.sleep(5)\n",
    "    # 5초의 시간차를 두고 각 라벨마다 비디오 촬영시작\n",
    "    \n",
    "    for img_num in range(number_imgs):\n",
    "        print('Collecting images for {}, image number {}'.format(label,img_num))\n",
    "        \n",
    "        ret, frame = cap.read() \n",
    "        \n",
    "        imgname = os.path.join(IMAGES_PATH, label+'.'+str(uuid.uuid1())+'.jpg')\n",
    "        #각 이미지 경로와 이름을 저장합니다 uuid는 각 이미지의 이름이 중복되지 않게 이름을 생성시켜줍니다\n",
    "        \n",
    "        print(imgname)\n",
    "                               \n",
    "        cv2.imwrite(imgname, frame)\n",
    "        #경로에다가 이미지를 폴더에 작성합니다.\n",
    "        \n",
    "        #Render to the screen\n",
    "        cv2.imshow('Image Collection', frame)\n",
    "        \n",
    "        #2 second delay between captures\n",
    "        time.sleep(2)\n",
    "        if cv2.waitKey(10) & 0xFF == ord('q'):\n",
    "            break\n",
    "\n",
    "        \n",
    "cap.release()\n",
    "cv2.destroyAllWindows()"
   ]
  }
 ],
 "metadata": {
  "kernelspec": {
   "display_name": "Python 3 (ipykernel)",
   "language": "python",
   "name": "python3"
  },
  "language_info": {
   "codemirror_mode": {
    "name": "ipython",
    "version": 3
   },
   "file_extension": ".py",
   "mimetype": "text/x-python",
   "name": "python",
   "nbconvert_exporter": "python",
   "pygments_lexer": "ipython3",
   "version": "3.9.13"
  }
 },
 "nbformat": 4,
 "nbformat_minor": 5
}
